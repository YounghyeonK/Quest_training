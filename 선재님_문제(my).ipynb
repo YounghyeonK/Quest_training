{
  "nbformat": 4,
  "nbformat_minor": 0,
  "metadata": {
    "colab": {
      "provenance": [],
      "authorship_tag": "ABX9TyOxw2ErLXebgmTamTmrsmST",
      "include_colab_link": true
    },
    "kernelspec": {
      "name": "python3",
      "display_name": "Python 3"
    },
    "language_info": {
      "name": "python"
    }
  },
  "cells": [
    {
      "cell_type": "markdown",
      "metadata": {
        "id": "view-in-github",
        "colab_type": "text"
      },
      "source": [
        "<a href=\"https://colab.research.google.com/github/YounghyeonK/Quest_training/blob/main/%EC%84%A0%EC%9E%AC%EB%8B%98_%EB%AC%B8%EC%A0%9C(my).ipynb\" target=\"_parent\"><img src=\"https://colab.research.google.com/assets/colab-badge.svg\" alt=\"Open In Colab\"/></a>"
      ]
    },
    {
      "cell_type": "code",
      "execution_count": 1,
      "metadata": {
        "id": "_ImuyY7TnU1p"
      },
      "outputs": [],
      "source": [
        "# 짱구, 철수, 유리는 주사위 게임을 한다.\n",
        "# 주사위를 굴려 나오는 숫자만큼 앞으로 전진하며 38번째 자리에 먼저 도착하는 사람이 승자이다.\n",
        "# 각 플레이어는 각자 사용할 말의 색을 입력해야한다.\n",
        "# 5의 배수 자리에 도착하면 앞으로 2칸 더 전진할 수 있으며, 8의 배수 자리에 도착하면 뒤로 2칸 후진해야 한다.\n",
        "# 가장 먼저 50번째 자리에 도착한 사람의 이름을 출력 하여라.\n",
        "# 단, 이번 주에 배운 예외처리와 모듈을 활용하여 코드를 작성해야 한다.\n",
        "\n",
        "from random import randint as r"
      ]
    },
    {
      "cell_type": "code",
      "source": [
        "# 각자의 말의 색을 구하는 함수를 정의한다.\n",
        "name = ['짱구', '철수', '유리']\n",
        "\n",
        "a = input(f'{name[0]}가 사용할 말의 색을 정하시오: ')\n",
        "print(f'{name[0]}이 사용할 말의 색은 {a}입니다.' )\n",
        "\n",
        "b = input(f'{name[1]}가 사용할 말의 색을 정하시오: ')\n",
        "print(f'{name[1]}이 사용할 말의 색은 {b}입니다.' )\n",
        "\n",
        "c = input(f'{name[2]}가 사용할 말의 색을 정하시오: ')\n",
        "print(f'{name[2]}이 사용할 말의 색은 {c}입니다.' )"
      ],
      "metadata": {
        "colab": {
          "base_uri": "https://localhost:8080/"
        },
        "id": "PINd6yOqtpID",
        "outputId": "ff31d79b-9485-40e2-8ff5-f3324dba1fff"
      },
      "execution_count": 5,
      "outputs": [
        {
          "output_type": "stream",
          "name": "stdout",
          "text": [
            "짱구가 사용할 말의 색을 정하시오: 빨간\n",
            "짱구이 사용할 말의 색은 빨간입니다.\n",
            "철수가 사용할 말의 색을 정하시오: 파란\n",
            "철수이 사용할 말의 색은 파란입니다.\n",
            "유리가 사용할 말의 색을 정하시오: 분홍\n",
            "유리이 사용할 말의 색은 분홍입니다.\n"
          ]
        }
      ]
    },
    {
      "cell_type": "code",
      "source": [
        "\n",
        "  name = ['짱구', '철수', '유리']\n",
        "\n",
        "  for i in name:\n",
        "   a = input(f'{i}가 사용할 말의 색을 정하시오: ')\n",
        "   print(f'{i}가 사용할 말의 색은 \\'{a}\\' 입니다.')\n"
      ],
      "metadata": {
        "colab": {
          "base_uri": "https://localhost:8080/"
        },
        "id": "QqquLRc602sp",
        "outputId": "67dd06b2-0e0e-47a4-88ce-188d3df1e5ad"
      },
      "execution_count": 7,
      "outputs": [
        {
          "output_type": "stream",
          "name": "stdout",
          "text": [
            "짱구가 사용할 말의 색을 정하시오: 빨간\n",
            "짱구가 사용할 말의 색은 '빨간' 입니다.\n",
            "철수가 사용할 말의 색을 정하시오: 파란\n",
            "철수가 사용할 말의 색은 '파란' 입니다.\n",
            "유리가 사용할 말의 색을 정하시오: 분홍\n",
            "유리가 사용할 말의 색은 '분홍' 입니다.\n"
          ]
        }
      ]
    }
  ]
}