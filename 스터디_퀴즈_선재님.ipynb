{
  "nbformat": 4,
  "nbformat_minor": 0,
  "metadata": {
    "colab": {
      "provenance": [],
      "include_colab_link": true
    },
    "kernelspec": {
      "name": "python3",
      "display_name": "Python 3"
    },
    "language_info": {
      "name": "python"
    }
  },
  "cells": [
    {
      "cell_type": "markdown",
      "metadata": {
        "id": "view-in-github",
        "colab_type": "text"
      },
      "source": [
        "<a href=\"https://colab.research.google.com/github/YounghyeonK/Quest_training/blob/main/%EC%8A%A4%ED%84%B0%EB%94%94_%ED%80%B4%EC%A6%88_%EC%84%A0%EC%9E%AC%EB%8B%98.ipynb\" target=\"_parent\"><img src=\"https://colab.research.google.com/assets/colab-badge.svg\" alt=\"Open In Colab\"/></a>"
      ]
    },
    {
      "cell_type": "code",
      "execution_count": null,
      "metadata": {
        "colab": {
          "base_uri": "https://localhost:8080/",
          "height": 405
        },
        "id": "zn0tyftfWZmt",
        "outputId": "109b729c-dc06-431d-8140-55f4f94d99fc"
      },
      "outputs": [
        {
          "output_type": "error",
          "ename": "KeyboardInterrupt",
          "evalue": "ignored",
          "traceback": [
            "\u001b[0;31m---------------------------------------------------------------------------\u001b[0m",
            "\u001b[0;31mKeyboardInterrupt\u001b[0m                         Traceback (most recent call last)",
            "\u001b[0;32m<ipython-input-54-d99af987a6fd>\u001b[0m in \u001b[0;36m<cell line: 12>\u001b[0;34m()\u001b[0m\n\u001b[1;32m     10\u001b[0m \u001b[0;34m\u001b[0m\u001b[0m\n\u001b[1;32m     11\u001b[0m \u001b[0;31m#색깔 입력 코드\u001b[0m\u001b[0;34m\u001b[0m\u001b[0;34m\u001b[0m\u001b[0m\n\u001b[0;32m---> 12\u001b[0;31m \u001b[0mcolor_z\u001b[0m \u001b[0;34m=\u001b[0m \u001b[0minput\u001b[0m\u001b[0;34m(\u001b[0m\u001b[0;34m'짱구의 말의 색을 정하세요 : '\u001b[0m\u001b[0;34m)\u001b[0m\u001b[0;34m\u001b[0m\u001b[0;34m\u001b[0m\u001b[0m\n\u001b[0m\u001b[1;32m     13\u001b[0m \u001b[0mprint\u001b[0m\u001b[0;34m(\u001b[0m\u001b[0;34m'짱구의 말의 색은 {color_z}색 입니다.'\u001b[0m\u001b[0;34m)\u001b[0m\u001b[0;34m\u001b[0m\u001b[0;34m\u001b[0m\u001b[0m\n\u001b[1;32m     14\u001b[0m \u001b[0mcolor_c\u001b[0m \u001b[0;34m=\u001b[0m \u001b[0minput\u001b[0m\u001b[0;34m(\u001b[0m\u001b[0;34m'철수의 말의 색을 정하세요 : '\u001b[0m\u001b[0;34m)\u001b[0m\u001b[0;34m\u001b[0m\u001b[0;34m\u001b[0m\u001b[0m\n",
            "\u001b[0;32m/usr/local/lib/python3.10/dist-packages/ipykernel/kernelbase.py\u001b[0m in \u001b[0;36mraw_input\u001b[0;34m(self, prompt)\u001b[0m\n\u001b[1;32m    849\u001b[0m                 \u001b[0;34m\"raw_input was called, but this frontend does not support input requests.\"\u001b[0m\u001b[0;34m\u001b[0m\u001b[0;34m\u001b[0m\u001b[0m\n\u001b[1;32m    850\u001b[0m             )\n\u001b[0;32m--> 851\u001b[0;31m         return self._input_request(str(prompt),\n\u001b[0m\u001b[1;32m    852\u001b[0m             \u001b[0mself\u001b[0m\u001b[0;34m.\u001b[0m\u001b[0m_parent_ident\u001b[0m\u001b[0;34m,\u001b[0m\u001b[0;34m\u001b[0m\u001b[0;34m\u001b[0m\u001b[0m\n\u001b[1;32m    853\u001b[0m             \u001b[0mself\u001b[0m\u001b[0;34m.\u001b[0m\u001b[0m_parent_header\u001b[0m\u001b[0;34m,\u001b[0m\u001b[0;34m\u001b[0m\u001b[0;34m\u001b[0m\u001b[0m\n",
            "\u001b[0;32m/usr/local/lib/python3.10/dist-packages/ipykernel/kernelbase.py\u001b[0m in \u001b[0;36m_input_request\u001b[0;34m(self, prompt, ident, parent, password)\u001b[0m\n\u001b[1;32m    893\u001b[0m             \u001b[0;32mexcept\u001b[0m \u001b[0mKeyboardInterrupt\u001b[0m\u001b[0;34m:\u001b[0m\u001b[0;34m\u001b[0m\u001b[0;34m\u001b[0m\u001b[0m\n\u001b[1;32m    894\u001b[0m                 \u001b[0;31m# re-raise KeyboardInterrupt, to truncate traceback\u001b[0m\u001b[0;34m\u001b[0m\u001b[0;34m\u001b[0m\u001b[0m\n\u001b[0;32m--> 895\u001b[0;31m                 \u001b[0;32mraise\u001b[0m \u001b[0mKeyboardInterrupt\u001b[0m\u001b[0;34m(\u001b[0m\u001b[0;34m\"Interrupted by user\"\u001b[0m\u001b[0;34m)\u001b[0m \u001b[0;32mfrom\u001b[0m \u001b[0;32mNone\u001b[0m\u001b[0;34m\u001b[0m\u001b[0;34m\u001b[0m\u001b[0m\n\u001b[0m\u001b[1;32m    896\u001b[0m             \u001b[0;32mexcept\u001b[0m \u001b[0mException\u001b[0m \u001b[0;32mas\u001b[0m \u001b[0me\u001b[0m\u001b[0;34m:\u001b[0m\u001b[0;34m\u001b[0m\u001b[0;34m\u001b[0m\u001b[0m\n\u001b[1;32m    897\u001b[0m                 \u001b[0mself\u001b[0m\u001b[0;34m.\u001b[0m\u001b[0mlog\u001b[0m\u001b[0;34m.\u001b[0m\u001b[0mwarning\u001b[0m\u001b[0;34m(\u001b[0m\u001b[0;34m\"Invalid Message:\"\u001b[0m\u001b[0;34m,\u001b[0m \u001b[0mexc_info\u001b[0m\u001b[0;34m=\u001b[0m\u001b[0;32mTrue\u001b[0m\u001b[0;34m)\u001b[0m\u001b[0;34m\u001b[0m\u001b[0;34m\u001b[0m\u001b[0m\n",
            "\u001b[0;31mKeyboardInterrupt\u001b[0m: Interrupted by user"
          ]
        }
      ],
      "source": [
        "# 짱구, 철수, 유리는 주사위 게임을 한다.\n",
        "# 주사위를 굴려 나오는 숫자만큼 앞으로 전진하며 38번째 자리에 먼저 도착하는 사람이 승자이다.\n",
        "# 각 플레이어는 각자 사용할 말의 색을 입력해야한다.\n",
        "# 5의 배수 자리에 도착하면 앞으로 2칸 더 전진할 수 있으며, 8의 배수 자리에 도착하면 뒤로 2칸 후진해야 한다.\n",
        "# 가장 먼저 38번째 자리에 도착한 사람의 이름을 출력 하여라.\n",
        "# 단, 이번 주에 배운 예외처리와 모듈을 활용하여 코드를 작성해야 한다.\n",
        "\n",
        "#랜덤 임포트\n",
        "import random as r\n",
        "\n",
        "#색깔 입력 코드\n",
        "color_z = input('짱구의 말의 색을 정하세요 : ')\n",
        "print('짱구의 말의 색은 {color_z}색 입니다.')\n",
        "color_c = input('철수의 말의 색을 정하세요 : ')\n",
        "print('철수의 말의 색은 {color_c}색 입니다.')\n",
        "color_y = input('유리의 말의 색을 정하세요 : ')\n",
        "print('유리의 말의 색은 {color_y}색 입니다.')\n",
        "\n",
        "#주사위 지정\n",
        "num_z = 0\n",
        "num_c = 0\n",
        "num_y = 0\n",
        "\n",
        "print(r.randint(1,6))\n",
        "\n",
        "#주사위 굴리는 코드\n",
        "\n",
        "#짱구\n",
        "while num_z < 38 and num_c < 38 and num_y <38 :\n",
        "  num_dice = r.randint(1,6)  #주사위 숫자\n",
        "  num_z = num_z + num_dice\n",
        "  print('******************************************')\n",
        "  print(f\"짱구가 나온 주사위 숫자 : {num_dice}\")\n",
        "#5배수 앞으로 2칸, 8배수 뒤로 2칸 가는 코드\n",
        "  if num_z%5==0:\n",
        "    num_z = num_z + 2\n",
        "    print('5의 배수에 도달하여 2칸 전진')\n",
        "  if num_z%8==0:\n",
        "    num_z = num_z - 2\n",
        "    print('8의 배수에 도달하여 2칸 후진')\n",
        "  print(f\"{color_z}색 말의 현재 위치 : {num_z}번째\")\n",
        "  if num_z >= 38:\n",
        "    print(\"게임종료, 승자는 짱구!\")\n",
        "    break\n",
        "\n",
        "\n",
        "#철수\n",
        "  num_dice = r.randint(1,6)  #주사위 숫자\n",
        "  num_c = num_c + num_dice\n",
        "  print('******************************************')\n",
        "  print(f\"철수가 나온 주사위 숫자 : {num_dice}\")\n",
        "  if num_c%5==0:\n",
        "    num_c = num_c + 2\n",
        "    print('5의 배수에 도달하여 2칸 전진')\n",
        "  if num_c%8==0:\n",
        "    num_c = num_c - 2\n",
        "    print('8의 배수에 도달하여 2칸 후진')\n",
        "  print(f\"{color_c}색 말의 현재 위치 : {num_c}번째\")\n",
        "  if num_c >= 38:\n",
        "      print(\"게임종료, 승자는 철수!\")\n",
        "      break\n",
        "\n",
        "#유리\n",
        "  num_dice = r.randint(1,6)  #주사위 숫자\n",
        "  num_y = num_y + num_dice\n",
        "  print('******************************************')\n",
        "  print(f\"유리가 나온 주사위 숫자 : {num_dice}\")\n",
        "  if num_y%5==0:\n",
        "    num_y = num_y + 2\n",
        "    print('5의 배수에 도달하여 2칸 전진')\n",
        "  if num_y%8==0:\n",
        "    num_y = num_y - 2\n",
        "    print('8의 배수에 도달하여 2칸 후진')\n",
        "  print(f\"{color_y}색 말의 현재 위치 : {num_y}번째\")\n",
        "  if num_y >=38:\n",
        "      print(\"게임종료, 승자는 유리!\")\n",
        "      break\n",
        "\n",
        "#최종 안내 코드\n",
        "print('******************************************')\n",
        "print('최종 스코어')\n",
        "print(f'짱구 : {num_z}')\n",
        "print(f'철수 : {num_c}')\n",
        "print(f'유리 : {num_y}')\n",
        "\n",
        "#5배수 앞으로 2칸, 8배수 뒤로 2칸 가는 코드\n",
        "\n",
        "\n",
        "#종료 코드\n",
        "\n"
      ]
    },
    {
      "cell_type": "markdown",
      "source": [],
      "metadata": {
        "id": "0sLrbfAvxM9g"
      }
    }
  ]
}