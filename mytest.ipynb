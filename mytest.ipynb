{
  "nbformat": 4,
  "nbformat_minor": 0,
  "metadata": {
    "colab": {
      "provenance": [],
      "authorship_tag": "ABX9TyM5Bvc15UPHIIqbcxYh3Oc+",
      "include_colab_link": true
    },
    "kernelspec": {
      "name": "python3",
      "display_name": "Python 3"
    },
    "language_info": {
      "name": "python"
    }
  },
  "cells": [
    {
      "cell_type": "markdown",
      "metadata": {
        "id": "view-in-github",
        "colab_type": "text"
      },
      "source": [
        "<a href=\"https://colab.research.google.com/github/YounghyeonK/Quest_training/blob/main/mytest.ipynb\" target=\"_parent\"><img src=\"https://colab.research.google.com/assets/colab-badge.svg\" alt=\"Open In Colab\"/></a>"
      ]
    },
    {
      "cell_type": "code",
      "execution_count": 1,
      "metadata": {
        "id": "PtsF509f5kAS"
      },
      "outputs": [],
      "source": [
        "from time import *"
      ]
    },
    {
      "cell_type": "code",
      "source": [
        "today = list(map(int,input(\"오늘의 날짜가 어떻게 됩니까?: \").split(',')))\n",
        "local_t = list(localtime()[:3])\n",
        "try:\n",
        "  local_t == today\n",
        "  print(f'오늘은 {local_t[0]}년 {local_t[1]}월 {local_t[2]}일이 맞습니다. ')\n",
        "\n",
        "except:\n",
        "  print('달력을 확인 후 다시 입력해주세요.(3초 후 검색창이 다시 생성됩니다.)')\n",
        "  #sleep(3)\n",
        "  #today\n"
      ],
      "metadata": {
        "colab": {
          "base_uri": "https://localhost:8080/"
        },
        "id": "KqwJnJ9855M6",
        "outputId": "5c8dfe11-d9d3-4a90-8d67-f748d2a616b0"
      },
      "execution_count": 47,
      "outputs": [
        {
          "output_type": "stream",
          "name": "stdout",
          "text": [
            "오늘의 날짜가 어떻게 됩니까?: 2013,11,11\n",
            "오늘은 2023년 11월 14일이 맞습니다. \n"
          ]
        }
      ]
    },
    {
      "cell_type": "code",
      "source": [
        "today = list(map(int,input(\"오늘의 날짜가 어떻게 됩니까?: \").split(',')))\n",
        "local_t = list(localtime()[:3])\n",
        "if local_t == today:\n",
        "  print(f'오늘은 {local_t[0]}년 {local_t[1]}월 {local_t[2]}일이 맞습니다. ')\n",
        "\n",
        "else:\n",
        "  print('달력을 확인 후 다시 입력해주세요.(3초 후 검색창이 다시 생성됩니다.)')\n",
        "  sleep(3)\n",
        "  today\n"
      ],
      "metadata": {
        "colab": {
          "base_uri": "https://localhost:8080/"
        },
        "id": "g2OZRJlWVi-S",
        "outputId": "8ca4db48-66bd-4f19-ce14-16956f99c209"
      },
      "execution_count": 50,
      "outputs": [
        {
          "output_type": "stream",
          "name": "stdout",
          "text": [
            "오늘의 날짜가 어떻게 됩니까?: 2023,11,12\n",
            "달력을 확인 후 다시 입력해주세요.(3초 후 검색창이 다시 생성됩니다.)\n"
          ]
        }
      ]
    },
    {
      "cell_type": "code",
      "source": [
        "score = list(map(int, input(\"점수를 입력하세요.:\").split(',')))"
      ],
      "metadata": {
        "colab": {
          "base_uri": "https://localhost:8080/"
        },
        "id": "kjeyGE8zAvEC",
        "outputId": "e690f072-2df1-42e6-d63f-e7ff094b4a50"
      },
      "execution_count": 41,
      "outputs": [
        {
          "name": "stdout",
          "output_type": "stream",
          "text": [
            "점수를 입력하세요.:10\n"
          ]
        }
      ]
    },
    {
      "cell_type": "code",
      "source": [
        "localtime()[:3]"
      ],
      "metadata": {
        "colab": {
          "base_uri": "https://localhost:8080/"
        },
        "id": "8QEIQt3lNBMZ",
        "outputId": "6799e76e-3c12-4fd3-950b-f2082c3a1b0e"
      },
      "execution_count": 31,
      "outputs": [
        {
          "output_type": "execute_result",
          "data": {
            "text/plain": [
              "(2023, 11, 14)"
            ]
          },
          "metadata": {},
          "execution_count": 31
        }
      ]
    },
    {
      "cell_type": "code",
      "source": [
        "today = list(map(int,input(\"오늘의 날짜가 어떻게 됩니까?: \").split(',')))\n",
        "local_t = list(localtime()[:3])\n",
        "try:\n",
        "  if local_t != today:\n",
        "    raise Exception ('달력을 확인 후 다시 입력해주세요.(3초 후 검색창이 다시 생성됩니다.)')\n",
        "    #sleep(3)\n",
        "    #print(today)\n",
        "    print(f'오늘은 {local_t[0]}년 {local_t[1]}월 {local_t[2]}일이 맞습니다. ')\n",
        "\n",
        "fin:\n",
        "  print('달력을 확인 후 다시 입력해주세요.(3초 후 검색창이 다시 생성됩니다.)')\n",
        "  #sleep(3)\n",
        "  #print(today)\n"
      ],
      "metadata": {
        "id": "XljT1uULRN8H"
      },
      "execution_count": null,
      "outputs": []
    }
  ]
}